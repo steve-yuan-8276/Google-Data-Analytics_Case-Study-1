{
 "cells": [
  {
   "cell_type": "code",
   "execution_count": 2,
   "id": "initial_id",
   "metadata": {
    "ExecuteTime": {
     "end_time": "2023-12-21T02:32:04.601539Z",
     "start_time": "2023-12-21T02:32:04.286038Z"
    },
    "collapsed": true
   },
   "outputs": [],
   "source": [
    "import numpy as np\n",
    "import pandas as pd\n",
    "import matplotlib.pyplot as plt"
   ]
  },
  {
   "cell_type": "code",
   "execution_count": 4,
   "id": "eb03f52b543d9dbf",
   "metadata": {
    "ExecuteTime": {
     "end_time": "2023-12-21T02:36:34.555704Z",
     "start_time": "2023-12-21T02:36:24.228802Z"
    }
   },
   "outputs": [],
   "source": [
    "# Load csv file\n",
    "df01 = pd.read_csv('/Users/steveyuan/Documents/github_files/Google-Data-Analytics_Case-Study-1/original_data/202201-divvy-tripdata.csv')\n",
    "df02 = pd.read_csv('/Users/steveyuan/Documents/github_files/Google-Data-Analytics_Case-Study-1/original_data/202202-divvy-tripdata.csv')\n",
    "df03 = pd.read_csv('/Users/steveyuan/Documents/github_files/Google-Data-Analytics_Case-Study-1/original_data/202203-divvy-tripdata.csv')\n",
    "df04 = pd.read_csv('/Users/steveyuan/Documents/github_files/Google-Data-Analytics_Case-Study-1/original_data/202204-divvy-tripdata.csv')\n",
    "df05 = pd.read_csv('/Users/steveyuan/Documents/github_files/Google-Data-Analytics_Case-Study-1/original_data/202205-divvy-tripdata.csv')\n",
    "df06 = pd.read_csv('/Users/steveyuan/Documents/github_files/Google-Data-Analytics_Case-Study-1/original_data/202206-divvy-tripdata.csv')\n",
    "df07 = pd.read_csv('/Users/steveyuan/Documents/github_files/Google-Data-Analytics_Case-Study-1/original_data/202207-divvy-tripdata.csv')\n",
    "df08 = pd.read_csv('/Users/steveyuan/Documents/github_files/Google-Data-Analytics_Case-Study-1/original_data/202208-divvy-tripdata.csv')\n",
    "df09 = pd.read_csv('/Users/steveyuan/Documents/github_files/Google-Data-Analytics_Case-Study-1/original_data/202209-divvy-tripdata.csv')\n",
    "df10 = pd.read_csv('/Users/steveyuan/Documents/github_files/Google-Data-Analytics_Case-Study-1/original_data/202210-divvy-tripdata.csv')\n",
    "df11 = pd.read_csv('/Users/steveyuan/Documents/github_files/Google-Data-Analytics_Case-Study-1/original_data/202211-divvy-tripdata.csv')\n",
    "df12 = pd.read_csv('/Users/steveyuan/Documents/github_files/Google-Data-Analytics_Case-Study-1/original_data/202212-divvy-tripdata.csv')"
   ]
  },
  {
   "cell_type": "code",
   "execution_count": 6,
   "id": "ce893d9eb8e22640",
   "metadata": {
    "ExecuteTime": {
     "end_time": "2023-12-21T02:41:02.870554Z",
     "start_time": "2023-12-21T02:41:02.865670Z"
    }
   },
   "outputs": [
    {
     "name": "stdout",
     "output_type": "stream",
     "text": [
      "<bound method NDFrame.head of                  ride_id customer_type      bike_type  start_hour week_day  \\\n",
      "0       C2F7DD78E82EC875        casual  electric_bike          11      Thu   \n",
      "1       A6CF8980A652D272        casual  electric_bike           8      Mon   \n",
      "2       BD0F91DFF741C66D        member   classic_bike           4      Tue   \n",
      "3       CBB80ED419105406        casual   classic_bike           0      Tue   \n",
      "4       DDC963BFDDA51EEA        member   classic_bike           1      Thu   \n",
      "...                  ...           ...            ...         ...      ...   \n",
      "103765  8788DA3EDE8FD8AB        casual  electric_bike          12      Tue   \n",
      "103766  C6C3B64FDC827D8C        casual  electric_bike          11      Thu   \n",
      "103767  CA281AE7D8B06F5A        casual  electric_bike          16      Mon   \n",
      "103768  44E348991862319B        casual  electric_bike          13      Wed   \n",
      "103769  E477C594A182AE58        casual  electric_bike          17      Thu   \n",
      "\n",
      "       month  year       start_time         end_time  riding_time  \n",
      "0        Jan  2022  2022/1/13 11:59  2022/1/13 12:02            3  \n",
      "1        Jan  2022  2022/1/10 08:41  2022/1/10 08:46            5  \n",
      "2        Jan  2022  2022/1/25 04:53  2022/1/25 04:58            5  \n",
      "3        Jan  2022   2022/1/4 00:18   2022/1/4 00:33           15  \n",
      "4        Jan  2022  2022/1/20 01:31  2022/1/20 01:37            6  \n",
      "...      ...   ...              ...              ...          ...  \n",
      "103765   Jan  2022  2022/1/18 12:36  2022/1/18 12:46           10  \n",
      "103766   Jan  2022  2022/1/27 11:00  2022/1/27 11:02            2  \n",
      "103767   Jan  2022  2022/1/10 16:14  2022/1/10 16:20            6  \n",
      "103768   Jan  2022  2022/1/19 13:22  2022/1/19 13:24            2  \n",
      "103769   Jan  2022  2022/1/13 17:24  2022/1/13 17:28            4  \n",
      "\n",
      "[103770 rows x 10 columns]>\n"
     ]
    }
   ],
   "source": [
    "print(df01.head)"
   ]
  },
  {
   "cell_type": "code",
   "execution_count": 7,
   "id": "acc01583a0c199b",
   "metadata": {
    "ExecuteTime": {
     "end_time": "2023-12-21T02:41:28.456440Z",
     "start_time": "2023-12-21T02:41:28.439444Z"
    }
   },
   "outputs": [
    {
     "name": "stdout",
     "output_type": "stream",
     "text": [
      "ride_id          object\n",
      "customer_type    object\n",
      "bike_type        object\n",
      "start_hour        int64\n",
      "week_day         object\n",
      "month            object\n",
      "year              int64\n",
      "start_time       object\n",
      "end_time         object\n",
      "riding_time       int64\n",
      "dtype: object\n"
     ]
    }
   ],
   "source": [
    "print(df01.dtypes)"
   ]
  },
  {
   "cell_type": "code",
   "execution_count": 8,
   "id": "2290de96ff4d0451",
   "metadata": {
    "ExecuteTime": {
     "end_time": "2023-12-21T02:41:50.655563Z",
     "start_time": "2023-12-21T02:41:50.648094Z"
    }
   },
   "outputs": [
    {
     "name": "stdout",
     "output_type": "stream",
     "text": [
      "(103770, 10)\n"
     ]
    }
   ],
   "source": [
    "print(df01.shape)"
   ]
  },
  {
   "cell_type": "code",
   "execution_count": 9,
   "id": "80494d16f83c7327",
   "metadata": {
    "ExecuteTime": {
     "end_time": "2023-12-21T02:43:13.228067Z",
     "start_time": "2023-12-21T02:43:13.220436Z"
    }
   },
   "outputs": [
    {
     "name": "stdout",
     "output_type": "stream",
     "text": [
      "Index(['ride_id', 'customer_type', 'bike_type', 'start_hour', 'week_day',\n",
      "       'month', 'year', 'start_time', 'end_time', 'riding_time'],\n",
      "      dtype='object')\n"
     ]
    }
   ],
   "source": [
    "print(df01.columns)"
   ]
  },
  {
   "cell_type": "code",
   "execution_count": 10,
   "id": "51f16a3ce4326cce",
   "metadata": {
    "ExecuteTime": {
     "end_time": "2023-12-21T02:45:42.837332Z",
     "start_time": "2023-12-21T02:45:41.888555Z"
    }
   },
   "outputs": [
    {
     "name": "stdout",
     "output_type": "stream",
     "text": [
      "(5667717, 10)\n"
     ]
    }
   ],
   "source": [
    "df = pd.concat([df01, df02, df03, df04, df05, df06, df07, \n",
    "                df08, df09, df10, df11, df12], ignore_index= True)\n",
    "print(df.shape)"
   ]
  },
  {
   "cell_type": "code",
   "execution_count": 11,
   "id": "162116f6ba363515",
   "metadata": {
    "ExecuteTime": {
     "end_time": "2023-12-21T02:46:08.583016Z",
     "start_time": "2023-12-21T02:46:08.559287Z"
    }
   },
   "outputs": [
    {
     "name": "stdout",
     "output_type": "stream",
     "text": [
      "<bound method NDFrame.head of                   ride_id customer_type      bike_type  start_hour week_day  \\\n",
      "0        C2F7DD78E82EC875        casual  electric_bike          11      Thu   \n",
      "1        A6CF8980A652D272        casual  electric_bike           8      Mon   \n",
      "2        BD0F91DFF741C66D        member   classic_bike           4      Tue   \n",
      "3        CBB80ED419105406        casual   classic_bike           0      Tue   \n",
      "4        DDC963BFDDA51EEA        member   classic_bike           1      Thu   \n",
      "...                   ...           ...            ...         ...      ...   \n",
      "5667712  43ABEE85B6E15DCA        member   classic_bike           6      Mon   \n",
      "5667713  F041C89A3D1F0270        member  electric_bike          17      Wed   \n",
      "5667714  A2BECB88430BE156        member   classic_bike          16      Thu   \n",
      "5667715  37B392960E566F58        member   classic_bike           9      Wed   \n",
      "5667716  2DD1587210BA45AE        casual   classic_bike           0      Fri   \n",
      "\n",
      "        month  year        start_time          end_time  riding_time  \n",
      "0         Jan  2022   2022/1/13 11:59   2022/1/13 12:02          3.0  \n",
      "1         Jan  2022   2022/1/10 08:41   2022/1/10 08:46          5.0  \n",
      "2         Jan  2022   2022/1/25 04:53   2022/1/25 04:58          5.0  \n",
      "3         Jan  2022    2022/1/4 00:18    2022/1/4 00:33         15.0  \n",
      "4         Jan  2022   2022/1/20 01:31   2022/1/20 01:37          6.0  \n",
      "...       ...   ...               ...               ...          ...  \n",
      "5667712   Dec  2022   2022/12/5 06:51   2022/12/5 06:54          3.0  \n",
      "5667713   Dec  2022  2022/12/14 17:06  2022/12/14 17:19         13.0  \n",
      "5667714   Dec  2022   2022/12/8 16:27   2022/12/8 16:32          5.0  \n",
      "5667715   Dec  2022  2022/12/28 09:37  2022/12/28 09:41          4.0  \n",
      "5667716   Dec  2022   2022/12/9 00:27   2022/12/9 00:35          8.0  \n",
      "\n",
      "[5667717 rows x 10 columns]>\n"
     ]
    }
   ],
   "source": [
    "print(df.head)"
   ]
  },
  {
   "cell_type": "markdown",
   "id": "2dae93e73ca287d9",
   "metadata": {},
   "source": [
    "## Data Validation"
   ]
  },
  {
   "cell_type": "code",
   "execution_count": 12,
   "id": "9fc0ad4c5939f9a4",
   "metadata": {
    "ExecuteTime": {
     "end_time": "2023-12-21T02:58:46.766082Z",
     "start_time": "2023-12-21T02:58:42.458352Z"
    }
   },
   "outputs": [
    {
     "name": "stdout",
     "output_type": "stream",
     "text": [
      "ride_id          0\n",
      "customer_type    0\n",
      "bike_type        0\n",
      "start_hour       0\n",
      "week_day         0\n",
      "month            0\n",
      "year             0\n",
      "start_time       0\n",
      "end_time         0\n",
      "riding_time      0\n",
      "dtype: int64\n"
     ]
    }
   ],
   "source": [
    "# Check NaN value\n",
    "nan_counts = df.isna().sum()\n",
    "print(nan_counts)"
   ]
  },
  {
   "cell_type": "code",
   "execution_count": 14,
   "id": "4a267d84c66fa25f",
   "metadata": {
    "ExecuteTime": {
     "end_time": "2023-12-21T03:09:33.639783Z",
     "start_time": "2023-12-21T03:09:33.630928Z"
    }
   },
   "outputs": [
    {
     "name": "stdout",
     "output_type": "stream",
     "text": [
      "Index(['ride_id', 'customer_type', 'bike_type', 'start_hour', 'week_day',\n",
      "       'month', 'year', 'start_time', 'end_time', 'riding_time'],\n",
      "      dtype='object')\n",
      "Negative_riding_times: True\n"
     ]
    }
   ],
   "source": [
    "# Check if the riding time is abnormal\n",
    "# check riding time < 0\n",
    "has_negative_riding_times = (df['riding_time'] < 0).any()    \n",
    "print('Negative_riding_times:', has_negative_riding_times)"
   ]
  },
  {
   "cell_type": "code",
   "execution_count": 16,
   "id": "5f356bb21a259213",
   "metadata": {
    "ExecuteTime": {
     "end_time": "2023-12-21T03:13:38.505868Z",
     "start_time": "2023-12-21T03:13:38.496691Z"
    }
   },
   "outputs": [
    {
     "name": "stdout",
     "output_type": "stream",
     "text": [
      "Excessive_riding_times: True\n"
     ]
    }
   ],
   "source": [
    "# check riding time > 1440\n",
    "has_excessive_riding_times = (df['riding_time'] > 1440).any()    \n",
    "print('Excessive_riding_times:', has_excessive_riding_times)"
   ]
  },
  {
   "cell_type": "code",
   "execution_count": 17,
   "id": "d164c124d6fd6f9d",
   "metadata": {
    "ExecuteTime": {
     "end_time": "2023-12-21T03:15:12.735923Z",
     "start_time": "2023-12-21T03:15:11.052659Z"
    }
   },
   "outputs": [
    {
     "name": "stdout",
     "output_type": "stream",
     "text": [
      "(5662256, 10)\n"
     ]
    }
   ],
   "source": [
    "# Remove the data with riding time < 0 or riding time > 1440\n",
    "df_cleaned = df[(df['riding_time'] >= 0) & (df['riding_time'] <= 1440)]\n",
    "print(df_cleaned.shape)"
   ]
  },
  {
   "cell_type": "markdown",
   "id": "51d6584e4d984486",
   "metadata": {},
   "source": [
    "## Data Analysis"
   ]
  },
  {
   "cell_type": "markdown",
   "id": "c0f7c530471a7c1d",
   "metadata": {},
   "source": [
    "### Distribution of Rides by Customer Type"
   ]
  },
  {
   "cell_type": "code",
   "execution_count": 20,
   "id": "bcc663de6a1f9239",
   "metadata": {
    "ExecuteTime": {
     "end_time": "2023-12-21T03:29:37.043717Z",
     "start_time": "2023-12-21T03:29:37.033025Z"
    }
   },
   "outputs": [
    {
     "name": "stdout",
     "output_type": "stream",
     "text": [
      "member    3345685\n",
      "casual    2322032\n",
      "Name: customer_type, dtype: int64\n"
     ]
    }
   ],
   "source": [
    "# calculate the unique customer number\n",
    "customer_counts = df['customer_type'].value_counts()\n",
    "print(customer_counts)"
   ]
  },
  {
   "cell_type": "code",
   "execution_count": 24,
   "id": "9676e508ad7a4ecf",
   "metadata": {
    "ExecuteTime": {
     "end_time": "2023-12-21T03:45:25.107192Z",
     "start_time": "2023-12-21T03:45:25.024370Z"
    }
   },
   "outputs": [
    {
     "data": {
      "image/png": "[encoded data removed]",
      "text/plain": [
       "<Figure size 640x480 with 1 Axes>"
      ]
     },
     "metadata": {},
     "output_type": "display_data"
    },
    {
     "data": {
      "text/plain": [
       "<Figure size 1000x600 with 0 Axes>"
      ]
     },
     "metadata": {},
     "output_type": "display_data"
    }
   ],
   "source": [
    "labels = customer_counts.index\n",
    "sizes = customer_counts.values\n",
    "\n",
    "# Draw Pie Chart\n",
    "fig, ax = plt.subplots()\n",
    "ax.pie(sizes, labels = labels, autopct = '%1.1f%%', startangle = 90)\n",
    "\n",
    "# Set colors\n",
    "colors = ['#1f77b4', '#d62728']\n",
    "\n",
    "# Set Figure Size\n",
    "plt.figure(figsize=(10, 6))\n",
    "\n",
    "# Add Legend\n",
    "ax.legend(labels, title = 'Customer Type')\n",
    "\n",
    "# Add Title\n",
    "ax.set_title('Distribution of Rides by Customer Type')\n",
    "\n",
    "# Show pia chart\n",
    "plt.show()"
   ]
  },
  {
   "cell_type": "markdown",
   "id": "a61b2a3d61aac99e",
   "metadata": {},
   "source": [
    "### Hourly Distribution of Rides by Customer Type"
   ]
  },
  {
   "cell_type": "code",
   "execution_count": 26,
   "id": "a2beef567d80ba0d",
   "metadata": {
    "ExecuteTime": {
     "end_time": "2023-12-21T04:04:44.490088Z",
     "start_time": "2023-12-21T04:04:43.664701Z"
    }
   },
   "outputs": [
    {
     "data": {
      "image/png": "[encoded data removed]",
      "text/plain": [
       "<Figure size 1500x800 with 1 Axes>"
      ]
     },
     "metadata": {},
     "output_type": "display_data"
    }
   ],
   "source": [
    "# count number by hourly and customer type\n",
    "hourly_customer_counts = df.groupby(['start_hour', 'customer_type']).size().unstack(fill_value= 0)\n",
    "\n",
    "# sorted hour from 0 to 23\n",
    "hourly_customer_counts = hourly_customer_counts.sort_index()\n",
    "\n",
    "hours = hourly_customer_counts.index\n",
    "casual_counts = hourly_customer_counts['casual']\n",
    "member_counts = hourly_customer_counts['member']\n",
    "\n",
    "# Set figure size\n",
    "plt.figure(figsize = (15, 8))\n",
    "\n",
    "# Draw bar chart\n",
    "# Draw member type first\n",
    "plt.bar(hours, member_counts, label = 'Member', color = '#1f77b4')\n",
    "# Draw casual type \n",
    "plt.bar(hours, casual_counts, bottom= member_counts, label= 'Casual', color = '#d62728')\n",
    "\n",
    "# Add legend\n",
    "plt.legend()\n",
    "\n",
    "# Add Title and Axis labels\n",
    "plt.title('Hourly Distribution of Rides by Customer Type')\n",
    "plt.xlabel('Hour of Day')\n",
    "plt.ylabel('Number of Rides')\n",
    "\n",
    "plt.xticks(hours)\n",
    "\n",
    "plt.show()"
   ]
  },
  {
   "cell_type": "code",
   "execution_count": null,
   "id": "28e0b3bb4b01cfab",
   "metadata": {},
   "outputs": [],
   "source": []
  }
 ],
 "metadata": {
  "kernelspec": {
   "display_name": "Python 3 (ipykernel)",
   "language": "python",
   "name": "python3"
  },
  "language_info": {
   "codemirror_mode": {
    "name": "ipython",
    "version": 3
   },
   "file_extension": ".py",
   "mimetype": "text/x-python",
   "name": "python",
   "nbconvert_exporter": "python",
   "pygments_lexer": "ipython3",
   "version": "3.10.9"
  }
 },
 "nbformat": 4,
 "nbformat_minor": 5
}
